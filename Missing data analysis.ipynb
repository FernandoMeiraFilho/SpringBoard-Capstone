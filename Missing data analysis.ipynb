{
 "cells": [
  {
   "cell_type": "markdown",
   "metadata": {},
   "source": [
    "# Data Disponibility Analysis"
   ]
  },
  {
   "cell_type": "markdown",
   "metadata": {},
   "source": [
    "The objective of this notebook is to check the data availability and test if there is enough observations to go further in the question. <br>\n",
    "\n",
    "<h3><b>Objectives:<b><br></h3>\n",
    "<ol>\n",
    "<li> Check the number of NaN's in <b>GDP</b> ( our response in the future models)</li>\n",
    "<li> Check the number of NaN's <b>private investment</b> feature (one of our main tests) </li>\n",
    "<li> Check the number of NaN's <b>public investment</b> feature (one of our main tests) </li>"
   ]
  },
  {
   "cell_type": "code",
   "execution_count": 1,
   "metadata": {
    "collapsed": false
   },
   "outputs": [
    {
     "data": {
      "text/html": [
       "<div>\n",
       "<table border=\"1\" class=\"dataframe\">\n",
       "  <thead>\n",
       "    <tr style=\"text-align: right;\">\n",
       "      <th></th>\n",
       "      <th>Unnamed: 0</th>\n",
       "      <th>mun</th>\n",
       "      <th>year</th>\n",
       "      <th>exp_value</th>\n",
       "      <th>imp_value</th>\n",
       "      <th>exp_share</th>\n",
       "      <th>homicid</th>\n",
       "      <th>latroc</th>\n",
       "      <th>estupro</th>\n",
       "      <th>idh</th>\n",
       "      <th>...</th>\n",
       "      <th>pri_year</th>\n",
       "      <th>pri_mun</th>\n",
       "      <th>pri_reais</th>\n",
       "      <th>pri_dolar</th>\n",
       "      <th>mun2</th>\n",
       "      <th>pub_year</th>\n",
       "      <th>pub_mun</th>\n",
       "      <th>pub_value</th>\n",
       "      <th>checkpub</th>\n",
       "      <th>checkpri</th>\n",
       "    </tr>\n",
       "  </thead>\n",
       "  <tbody>\n",
       "    <tr>\n",
       "      <th>0</th>\n",
       "      <td>0</td>\n",
       "      <td>Adamantina</td>\n",
       "      <td>2000</td>\n",
       "      <td>NaN</td>\n",
       "      <td>NaN</td>\n",
       "      <td>NaN</td>\n",
       "      <td>NaN</td>\n",
       "      <td>NaN</td>\n",
       "      <td>NaN</td>\n",
       "      <td>0.721</td>\n",
       "      <td>...</td>\n",
       "      <td>NaN</td>\n",
       "      <td>NaN</td>\n",
       "      <td>NaN</td>\n",
       "      <td>NaN</td>\n",
       "      <td>ADAMANTINA</td>\n",
       "      <td>NaN</td>\n",
       "      <td>NaN</td>\n",
       "      <td>NaN</td>\n",
       "      <td>1</td>\n",
       "      <td>0</td>\n",
       "    </tr>\n",
       "    <tr>\n",
       "      <th>1</th>\n",
       "      <td>1</td>\n",
       "      <td>Adamantina</td>\n",
       "      <td>2001</td>\n",
       "      <td>NaN</td>\n",
       "      <td>NaN</td>\n",
       "      <td>NaN</td>\n",
       "      <td>4.0</td>\n",
       "      <td>NaN</td>\n",
       "      <td>2.0</td>\n",
       "      <td>NaN</td>\n",
       "      <td>...</td>\n",
       "      <td>NaN</td>\n",
       "      <td>NaN</td>\n",
       "      <td>NaN</td>\n",
       "      <td>NaN</td>\n",
       "      <td>ADAMANTINA</td>\n",
       "      <td>NaN</td>\n",
       "      <td>NaN</td>\n",
       "      <td>NaN</td>\n",
       "      <td>1</td>\n",
       "      <td>0</td>\n",
       "    </tr>\n",
       "    <tr>\n",
       "      <th>2</th>\n",
       "      <td>2</td>\n",
       "      <td>Adamantina</td>\n",
       "      <td>2002</td>\n",
       "      <td>NaN</td>\n",
       "      <td>NaN</td>\n",
       "      <td>NaN</td>\n",
       "      <td>1.0</td>\n",
       "      <td>1.0</td>\n",
       "      <td>NaN</td>\n",
       "      <td>NaN</td>\n",
       "      <td>...</td>\n",
       "      <td>NaN</td>\n",
       "      <td>NaN</td>\n",
       "      <td>NaN</td>\n",
       "      <td>NaN</td>\n",
       "      <td>ADAMANTINA</td>\n",
       "      <td>NaN</td>\n",
       "      <td>NaN</td>\n",
       "      <td>NaN</td>\n",
       "      <td>1</td>\n",
       "      <td>0</td>\n",
       "    </tr>\n",
       "    <tr>\n",
       "      <th>3</th>\n",
       "      <td>3</td>\n",
       "      <td>Adamantina</td>\n",
       "      <td>2003</td>\n",
       "      <td>7509556.0</td>\n",
       "      <td>NaN</td>\n",
       "      <td>0,027878</td>\n",
       "      <td>1.0</td>\n",
       "      <td>NaN</td>\n",
       "      <td>NaN</td>\n",
       "      <td>NaN</td>\n",
       "      <td>...</td>\n",
       "      <td>NaN</td>\n",
       "      <td>NaN</td>\n",
       "      <td>NaN</td>\n",
       "      <td>NaN</td>\n",
       "      <td>ADAMANTINA</td>\n",
       "      <td>NaN</td>\n",
       "      <td>NaN</td>\n",
       "      <td>NaN</td>\n",
       "      <td>1</td>\n",
       "      <td>0</td>\n",
       "    </tr>\n",
       "    <tr>\n",
       "      <th>4</th>\n",
       "      <td>4</td>\n",
       "      <td>Adamantina</td>\n",
       "      <td>2004</td>\n",
       "      <td>6864268.0</td>\n",
       "      <td>NaN</td>\n",
       "      <td>0,019939</td>\n",
       "      <td>4.0</td>\n",
       "      <td>NaN</td>\n",
       "      <td>1.0</td>\n",
       "      <td>NaN</td>\n",
       "      <td>...</td>\n",
       "      <td>NaN</td>\n",
       "      <td>NaN</td>\n",
       "      <td>NaN</td>\n",
       "      <td>NaN</td>\n",
       "      <td>ADAMANTINA</td>\n",
       "      <td>NaN</td>\n",
       "      <td>NaN</td>\n",
       "      <td>NaN</td>\n",
       "      <td>1</td>\n",
       "      <td>0</td>\n",
       "    </tr>\n",
       "  </tbody>\n",
       "</table>\n",
       "<p>5 rows × 49 columns</p>\n",
       "</div>"
      ],
      "text/plain": [
       "   Unnamed: 0         mun  year  exp_value  imp_value exp_share  homicid  \\\n",
       "0           0  Adamantina  2000        NaN        NaN       NaN      NaN   \n",
       "1           1  Adamantina  2001        NaN        NaN       NaN      4.0   \n",
       "2           2  Adamantina  2002        NaN        NaN       NaN      1.0   \n",
       "3           3  Adamantina  2003  7509556.0        NaN  0,027878      1.0   \n",
       "4           4  Adamantina  2004  6864268.0        NaN  0,019939      4.0   \n",
       "\n",
       "   latroc  estupro    idh    ...     pri_year  pri_mun pri_reais  pri_dolar  \\\n",
       "0     NaN      NaN  0.721    ...          NaN      NaN       NaN        NaN   \n",
       "1     NaN      2.0    NaN    ...          NaN      NaN       NaN        NaN   \n",
       "2     1.0      NaN    NaN    ...          NaN      NaN       NaN        NaN   \n",
       "3     NaN      NaN    NaN    ...          NaN      NaN       NaN        NaN   \n",
       "4     NaN      1.0    NaN    ...          NaN      NaN       NaN        NaN   \n",
       "\n",
       "         mun2  pub_year  pub_mun  pub_value  checkpub  checkpri  \n",
       "0  ADAMANTINA       NaN      NaN        NaN         1         0  \n",
       "1  ADAMANTINA       NaN      NaN        NaN         1         0  \n",
       "2  ADAMANTINA       NaN      NaN        NaN         1         0  \n",
       "3  ADAMANTINA       NaN      NaN        NaN         1         0  \n",
       "4  ADAMANTINA       NaN      NaN        NaN         1         0  \n",
       "\n",
       "[5 rows x 49 columns]"
      ]
     },
     "execution_count": 1,
     "metadata": {},
     "output_type": "execute_result"
    }
   ],
   "source": [
    "import pandas as pd\n",
    "import numpy as np\n",
    "import matplotlib.pyplot as plt\n",
    "import seaborn as sns\n",
    "% matplotlib inline\n",
    "\n",
    "\n",
    "df = pd.read_csv('SPcities.csv', decimal=',', encoding='Iso-8859-1', sep=';')\n",
    "\n",
    "# In this dataset we have years that go beyond our interest, that is 2015, so here I`m going to restrict to the interest\n",
    "\n",
    "df = df[df.year < 2016]\n",
    "df.head()"
   ]
  },
  {
   "cell_type": "markdown",
   "metadata": {},
   "source": [
    "<h4> 1.Check the number of NaN's in GDP ( our response in the future models) </h4>"
   ]
  },
  {
   "cell_type": "code",
   "execution_count": 56,
   "metadata": {
    "collapsed": false
   },
   "outputs": [
    {
     "data": {
      "text/plain": [
       "Unnamed: 0        0.000000\n",
       "mun               0.000000\n",
       "year              0.000000\n",
       "exp_value         0.556977\n",
       "imp_value         0.600484\n",
       "exp_share         0.557558\n",
       "homicid           0.444767\n",
       "latroc            0.829845\n",
       "estupro           0.350388\n",
       "idh               0.875000\n",
       "idh_rank          0.875000\n",
       "educ_pgraduate    0.875097\n",
       "life_exp          0.001066\n",
       "furtos            0.064535\n",
       "gdp               0.187500\n",
       "gdp_per           0.187597\n",
       "area              0.000000\n",
       "roubos            0.179554\n",
       "dem_dens          0.000000\n",
       "value_add         0.187500\n",
       "ind_value_ad      0.187500\n",
       "eletric           0.125000\n",
       "mun_revenue       0.320543\n",
       "iptu              0.321609\n",
       "iss               0.321027\n",
       "icms              0.000000\n",
       "ipva              0.375000\n",
       "icms.1            0.375000\n",
       "veic              0.125000\n",
       "veic_per          0.125000\n",
       "jobs              0.000000\n",
       "jobs_mrev         0.000000\n",
       "pop               0.000000\n",
       "pop_cresc         1.000000\n",
       "pop_urb           0.000000\n",
       "pop_rur           0.041570\n",
       "olding            0.000000\n",
       "urbing            0.000000\n",
       "migration         0.312888\n",
       "pri_year          0.961628\n",
       "pri_mun           0.961628\n",
       "pri_reais         0.961628\n",
       "pri_dolar         0.961628\n",
       "mun2              0.000000\n",
       "pub_year          0.906977\n",
       "pub_mun           0.906977\n",
       "pub_value         0.906977\n",
       "checkpub          0.000000\n",
       "checkpri          0.000000\n",
       "dtype: float64"
      ]
     },
     "execution_count": 56,
     "metadata": {},
     "output_type": "execute_result"
    }
   ],
   "source": [
    "data = df[df.mun.notnull()]\n",
    "missing_features = data.isnull().sum()\n",
    "missing_features/len(df)\n",
    "\n",
    "#number of nulls in the features divided by the number of observations"
   ]
  },
  {
   "cell_type": "markdown",
   "metadata": {},
   "source": [
    "It seems to have few data with investment information, but idh and education have some problems too"
   ]
  },
  {
   "cell_type": "code",
   "execution_count": 54,
   "metadata": {
    "collapsed": false
   },
   "outputs": [
    {
     "data": {
      "text/plain": [
       "<matplotlib.text.Text at 0x273d1a649e8>"
      ]
     },
     "execution_count": 54,
     "metadata": {},
     "output_type": "execute_result"
    },
    {
     "data": {
      "image/png": "[encoded data removed]",
      "text/plain": [
       "<matplotlib.figure.Figure at 0x273d02d1d30>"
      ]
     },
     "metadata": {},
     "output_type": "display_data"
    }
   ],
   "source": [
    "# lets look the distribution of NaN values in different cities \n",
    "\n",
    "## GDP\n",
    "null_gdp = data.gdp.isnull().groupby(data['mun']).sum()\n",
    "\n",
    "plt.hist(null_gdp)\n",
    "plt.title('Distribution of null in GDP features per city')"
   ]
  },
  {
   "cell_type": "markdown",
   "metadata": {},
   "source": [
    "It seems we have the same problem for all cities, so there must be the same years for all of them"
   ]
  },
  {
   "cell_type": "code",
   "execution_count": 57,
   "metadata": {
    "collapsed": false
   },
   "outputs": [
    {
     "name": "stdout",
     "output_type": "stream",
     "text": [
      "Number of unique cities:  645\n"
     ]
    },
    {
     "data": {
      "text/plain": [
       "year\n",
       "2000    645.0\n",
       "2001    645.0\n",
       "2002      0.0\n",
       "2003      0.0\n",
       "2004      0.0\n",
       "2005      0.0\n",
       "2006      0.0\n",
       "2007      0.0\n",
       "2008      0.0\n",
       "2009      0.0\n",
       "2010      0.0\n",
       "2011      0.0\n",
       "2012      0.0\n",
       "2013      0.0\n",
       "2014      0.0\n",
       "2015    645.0\n",
       "Name: gdp, dtype: float64"
      ]
     },
     "execution_count": 57,
     "metadata": {},
     "output_type": "execute_result"
    }
   ],
   "source": [
    "n_cities = len(np.unique(data.mun))\n",
    "null_gdp_year = data.gdp.isnull().groupby(data['year']).sum()\n",
    "\n",
    "\n",
    "print('Number of unique cities: ', n_cities)\n",
    "null_gdp_year"
   ]
  },
  {
   "cell_type": "markdown",
   "metadata": {},
   "source": [
    "so here we have the problem: in 2000, 2001 and 2015 we have no gdp information, which are going to be droped for sure"
   ]
  },
  {
   "cell_type": "markdown",
   "metadata": {},
   "source": [
    "<h4> 2.Check the number of NaN's private investment feature (one of our main tests) </h4>"
   ]
  },
  {
   "cell_type": "code",
   "execution_count": 63,
   "metadata": {
    "collapsed": false
   },
   "outputs": [
    {
     "name": "stdout",
     "output_type": "stream",
     "text": [
      "Number of unique cities:  645\n",
      "Number cities with at least 1 value of private investment:  137\n",
      "% of cities with value in private investment:  21.240310077519382\n"
     ]
    },
    {
     "data": {
      "text/plain": [
       "<matplotlib.text.Text at 0x273d45ba048>"
      ]
     },
     "execution_count": 63,
     "metadata": {},
     "output_type": "execute_result"
    },
    {
     "data": {
      "image/png": "[encoded data removed]",
      "text/plain": [
       "<matplotlib.figure.Figure at 0x273d40c2630>"
      ]
     },
     "metadata": {},
     "output_type": "display_data"
    }
   ],
   "source": [
    "## Private Investment\n",
    "\n",
    "\n",
    "null_private = data['pri_reais'].notnull().groupby(data['mun']).sum()\n",
    "\n",
    "# here we need to check in the cities that have some private investment value, how the distribution of NaN looks? \n",
    "\n",
    "print('Number of unique cities: ', n_cities)\n",
    "print('Number cities with at least 1 value of private investment: ', len(null_private[null_private>0]))\n",
    "print('% of cities with value in private investment: ', len(null_private[null_private>0])/n_cities * 100)\n",
    "\n",
    "plt.hist(null_private[null_private>0])\n",
    "plt.title('Distribution of not nulls in Private investment feature per city')"
   ]
  },
  {
   "cell_type": "code",
   "execution_count": 62,
   "metadata": {
    "collapsed": false
   },
   "outputs": [
    {
     "data": {
      "text/plain": [
       "<matplotlib.text.Text at 0x273d4139b38>"
      ]
     },
     "execution_count": 62,
     "metadata": {},
     "output_type": "execute_result"
    },
    {
     "data": {
      "image/png": "[encoded data removed]",
      "text/plain": [
       "<matplotlib.figure.Figure at 0x273d40b3b70>"
      ]
     },
     "metadata": {},
     "output_type": "display_data"
    }
   ],
   "source": [
    "plt.hist(null_private[null_private>0], cumulative=True)\n",
    "plt.title('Cumulative Distribution of not nulls in Private investment feature per city')"
   ]
  },
  {
   "cell_type": "code",
   "execution_count": 41,
   "metadata": {
    "collapsed": false
   },
   "outputs": [
    {
     "data": {
      "text/plain": [
       "year\n",
       "2000    645.0\n",
       "2001    645.0\n",
       "2002    644.0\n",
       "2003    645.0\n",
       "2004    645.0\n",
       "2005    643.0\n",
       "2006    643.0\n",
       "2007    642.0\n",
       "2008    634.0\n",
       "2009    633.0\n",
       "2010    620.0\n",
       "2011    594.0\n",
       "2012    575.0\n",
       "2013    572.0\n",
       "2014    573.0\n",
       "2015    571.0\n",
       "Name: pri_reais, dtype: float64"
      ]
     },
     "execution_count": 41,
     "metadata": {},
     "output_type": "execute_result"
    }
   ],
   "source": [
    "# lets check if there is some concetration in any year that we have at least 1 value for private investment :\n",
    "\n",
    "null_private_year = data['pri_reais'].isnull().groupby(data['year']).sum()\n",
    "null_private_year\n",
    "\n",
    "#count of Nan`s by year"
   ]
  },
  {
   "cell_type": "markdown",
   "metadata": {},
   "source": [
    "It seems that the years after 2010 are better in number of not nulls but still we can see that there is a few observations that have more than 3 years with data, which looks very chalenging. "
   ]
  },
  {
   "cell_type": "markdown",
   "metadata": {},
   "source": [
    "<h4> 3.Check the number of NaN's public investment feature (one of our main tests) </h4>"
   ]
  },
  {
   "cell_type": "code",
   "execution_count": 64,
   "metadata": {
    "collapsed": false
   },
   "outputs": [
    {
     "name": "stdout",
     "output_type": "stream",
     "text": [
      "Number of unique cities:  645\n",
      "Number cities with at least 1 value of public investment:  489\n",
      "% of cities with value in public investment:  75.81395348837209\n"
     ]
    },
    {
     "data": {
      "text/plain": [
       "<matplotlib.text.Text at 0x273d4680dd8>"
      ]
     },
     "execution_count": 64,
     "metadata": {},
     "output_type": "execute_result"
    },
    {
     "data": {
      "image/png": "[encoded data removed]",
      "text/plain": [
       "<matplotlib.figure.Figure at 0x273d463d6a0>"
      ]
     },
     "metadata": {},
     "output_type": "display_data"
    }
   ],
   "source": [
    "## Public Investment\n",
    "\n",
    "\n",
    "null_pub = data['pub_value'].notnull().groupby(data['mun']).sum()\n",
    "\n",
    "# here we need to check in the cities that have some public investment value, how the distribution of NaN looks? \n",
    "\n",
    "print('Number of unique cities: ', n_cities)\n",
    "print('Number cities with at least 1 value of public investment: ', len(null_pub[null_pub >0]))\n",
    "print('% of cities with value in public investment: ', len(null_pub[null_pub >0])/n_cities * 100)\n",
    "\n",
    "plt.hist(null_pub[null_pub >0])\n",
    "plt.title('Distribution of null in Public investment in features per city')"
   ]
  },
  {
   "cell_type": "code",
   "execution_count": 65,
   "metadata": {
    "collapsed": false
   },
   "outputs": [
    {
     "data": {
      "text/plain": [
       "<matplotlib.text.Text at 0x273d4742b70>"
      ]
     },
     "execution_count": 65,
     "metadata": {},
     "output_type": "execute_result"
    },
    {
     "data": {
      "image/png": "[encoded data removed]",
      "text/plain": [
       "<matplotlib.figure.Figure at 0x273d41847f0>"
      ]
     },
     "metadata": {},
     "output_type": "display_data"
    }
   ],
   "source": [
    "plt.hist(null_pub[null_pub>0], cumulative=True)\n",
    "plt.title('Cumulative Distribution of null in Public investment in features per city')"
   ]
  },
  {
   "cell_type": "code",
   "execution_count": 42,
   "metadata": {
    "collapsed": false
   },
   "outputs": [
    {
     "data": {
      "text/plain": [
       "year\n",
       "2000    645.0\n",
       "2001    645.0\n",
       "2002    645.0\n",
       "2003    645.0\n",
       "2004    645.0\n",
       "2005    645.0\n",
       "2006    645.0\n",
       "2007    598.0\n",
       "2008    603.0\n",
       "2009    612.0\n",
       "2010    511.0\n",
       "2011    556.0\n",
       "2012    540.0\n",
       "2013    236.0\n",
       "2014    545.0\n",
       "2015    644.0\n",
       "Name: pub_value, dtype: float64"
      ]
     },
     "execution_count": 42,
     "metadata": {},
     "output_type": "execute_result"
    }
   ],
   "source": [
    "# lets check if there is some concetration in any year that we have at least 1 value for public investment :\n",
    "\n",
    "null_public_year = data['pub_value'].isnull().groupby(data['year']).sum()\n",
    "null_public_year\n",
    "\n",
    "#count of Nan`s by year"
   ]
  },
  {
   "cell_type": "markdown",
   "metadata": {},
   "source": [
    "For the public investment we clearly see that we have much more data, and we can see that the availability is very similar to the private, getting better by the year of 2010. Otherwise we have the same issue where we have just 3 years with heavy investment values."
   ]
  },
  {
   "cell_type": "code",
   "execution_count": null,
   "metadata": {
    "collapsed": true
   },
   "outputs": [],
   "source": []
  },
  {
   "cell_type": "code",
   "execution_count": null,
   "metadata": {
    "collapsed": true
   },
   "outputs": [],
   "source": []
  },
  {
   "cell_type": "code",
   "execution_count": null,
   "metadata": {
    "collapsed": true
   },
   "outputs": [],
   "source": []
  },
  {
   "cell_type": "code",
   "execution_count": null,
   "metadata": {
    "collapsed": true
   },
   "outputs": [],
   "source": []
  },
  {
   "cell_type": "code",
   "execution_count": null,
   "metadata": {
    "collapsed": true
   },
   "outputs": [],
   "source": []
  }
 ],
 "metadata": {
  "kernelspec": {
   "display_name": "Python 3",
   "language": "python",
   "name": "python3"
  },
  "language_info": {
   "codemirror_mode": {
    "name": "ipython",
    "version": 3
   },
   "file_extension": ".py",
   "mimetype": "text/x-python",
   "name": "python",
   "nbconvert_exporter": "python",
   "pygments_lexer": "ipython3",
   "version": "3.6.0"
  }
 },
 "nbformat": 4,
 "nbformat_minor": 2
}
